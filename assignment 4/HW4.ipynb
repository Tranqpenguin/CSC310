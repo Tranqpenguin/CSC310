{
  "nbformat": 4,
  "nbformat_minor": 0,
  "metadata": {
    "colab": {
      "name": "HW4.ipynb",
      "provenance": [],
      "collapsed_sections": []
    },
    "kernelspec": {
      "name": "python3",
      "display_name": "Python 3"
    },
    "language_info": {
      "name": "python"
    }
  },
  "cells": [
    {
      "cell_type": "code",
      "source": [
        "# preamble to be able to run notebooks in Jupyter and Colab\n",
        "try:\n",
        "    from google.colab import drive\n",
        "    import sys\n",
        "    \n",
        "    drive.mount('/content/drive')\n",
        "    notes_home = \"/content/drive/My Drive/CSC310/notes/\"\n",
        "    user_home = \"/content/drive/My Drive/\"\n",
        "    sys.path.insert(1,notes_home) # let the notebook access the notes folder\n",
        "\n",
        "except ModuleNotFoundError:\n",
        "    notes_home = \"\" # running native Jupyter environment -- notes home is the same as the notebook\n",
        "    user_home = \"\"  # under Jupyter we assume the user directory is the same as the notebook"
      ],
      "metadata": {
        "colab": {
          "base_uri": "https://localhost:8080/"
        },
        "id": "m-wqCb4wIr8v",
        "outputId": "18027c89-c95a-4a9c-a85e-2461fda4143a"
      },
      "execution_count": 137,
      "outputs": [
        {
          "output_type": "stream",
          "name": "stdout",
          "text": [
            "Drive already mounted at /content/drive; to attempt to forcibly remount, call drive.mount(\"/content/drive\", force_remount=True).\n"
          ]
        }
      ]
    },
    {
      "cell_type": "code",
      "source": [
        "import pandas as pd\n",
        "url =\"https://raw.githubusercontent.com/IndraniMandal/CSC310-S20/master/messy_covid19_southamerica%20-%20covid19_southamerica.csv\"\n",
        "df = pd.read_csv(url)\n",
        "df"
      ],
      "metadata": {
        "id": "j0ZBkyNt5qcw",
        "colab": {
          "base_uri": "https://localhost:8080/",
          "height": 424
        },
        "outputId": "ee82ad03-18ed-4f80-a731-0377dc03a69b"
      },
      "execution_count": 138,
      "outputs": [
        {
          "output_type": "execute_result",
          "data": {
            "text/html": [
              "\n",
              "  <div id=\"df-e9fa14b8-2a68-4730-b192-ee158737bb1c\">\n",
              "    <div class=\"colab-df-container\">\n",
              "      <div>\n",
              "<style scoped>\n",
              "    .dataframe tbody tr th:only-of-type {\n",
              "        vertical-align: middle;\n",
              "    }\n",
              "\n",
              "    .dataframe tbody tr th {\n",
              "        vertical-align: top;\n",
              "    }\n",
              "\n",
              "    .dataframe thead th {\n",
              "        text-align: right;\n",
              "    }\n",
              "</style>\n",
              "<table border=\"1\" class=\"dataframe\">\n",
              "  <thead>\n",
              "    <tr style=\"text-align: right;\">\n",
              "      <th></th>\n",
              "      <th>ObservationDate</th>\n",
              "      <th>Country_Region</th>\n",
              "      <th>Province_State</th>\n",
              "      <th>Confirmed</th>\n",
              "      <th>Deaths</th>\n",
              "      <th>Recovered</th>\n",
              "      <th>Active</th>\n",
              "    </tr>\n",
              "  </thead>\n",
              "  <tbody>\n",
              "    <tr>\n",
              "      <th>0</th>\n",
              "      <td>2020-01-23</td>\n",
              "      <td>Mexico</td>\n",
              "      <td>NaN</td>\n",
              "      <td>0.0</td>\n",
              "      <td>0</td>\n",
              "      <td>0</td>\n",
              "      <td>0.0</td>\n",
              "    </tr>\n",
              "    <tr>\n",
              "      <th>1</th>\n",
              "      <td>2020-01-23</td>\n",
              "      <td>Brazil</td>\n",
              "      <td>NaN</td>\n",
              "      <td>0.0</td>\n",
              "      <td>0</td>\n",
              "      <td>0</td>\n",
              "      <td>0.0</td>\n",
              "    </tr>\n",
              "    <tr>\n",
              "      <th>2</th>\n",
              "      <td>2020-01-23</td>\n",
              "      <td>Colombia</td>\n",
              "      <td>NaN</td>\n",
              "      <td>0.0</td>\n",
              "      <td>0</td>\n",
              "      <td>0</td>\n",
              "      <td>0.0</td>\n",
              "    </tr>\n",
              "    <tr>\n",
              "      <th>3</th>\n",
              "      <td>2020-02-26</td>\n",
              "      <td>Brazil</td>\n",
              "      <td>NaN</td>\n",
              "      <td>1.0</td>\n",
              "      <td>0</td>\n",
              "      <td>0</td>\n",
              "      <td>1.0</td>\n",
              "    </tr>\n",
              "    <tr>\n",
              "      <th>4</th>\n",
              "      <td>2020-02-26</td>\n",
              "      <td>Brazil</td>\n",
              "      <td>NaN</td>\n",
              "      <td>1.0</td>\n",
              "      <td>0</td>\n",
              "      <td>0</td>\n",
              "      <td>1.0</td>\n",
              "    </tr>\n",
              "    <tr>\n",
              "      <th>...</th>\n",
              "      <td>...</td>\n",
              "      <td>...</td>\n",
              "      <td>...</td>\n",
              "      <td>...</td>\n",
              "      <td>...</td>\n",
              "      <td>...</td>\n",
              "      <td>...</td>\n",
              "    </tr>\n",
              "    <tr>\n",
              "      <th>23145</th>\n",
              "      <td>2020-09-28</td>\n",
              "      <td>Saint Vincent and the Grenadines</td>\n",
              "      <td>NaN</td>\n",
              "      <td>64.0</td>\n",
              "      <td>0</td>\n",
              "      <td>64</td>\n",
              "      <td>0.0</td>\n",
              "    </tr>\n",
              "    <tr>\n",
              "      <th>23146</th>\n",
              "      <td>2020-09-28</td>\n",
              "      <td>Suriname</td>\n",
              "      <td>NaN</td>\n",
              "      <td>4836.0</td>\n",
              "      <td>102</td>\n",
              "      <td>4667</td>\n",
              "      <td>67.0</td>\n",
              "    </tr>\n",
              "    <tr>\n",
              "      <th>23147</th>\n",
              "      <td>2020-09-28</td>\n",
              "      <td>Trinidad and Tobago</td>\n",
              "      <td>NaN</td>\n",
              "      <td>4386.0</td>\n",
              "      <td>72</td>\n",
              "      <td>2275</td>\n",
              "      <td>2039.0</td>\n",
              "    </tr>\n",
              "    <tr>\n",
              "      <th>23148</th>\n",
              "      <td>2020-09-28</td>\n",
              "      <td>Uruguay</td>\n",
              "      <td>NaN</td>\n",
              "      <td>2010.0</td>\n",
              "      <td>47</td>\n",
              "      <td>1755</td>\n",
              "      <td>208.0</td>\n",
              "    </tr>\n",
              "    <tr>\n",
              "      <th>23149</th>\n",
              "      <td>2020-09-28</td>\n",
              "      <td>Venezuela</td>\n",
              "      <td>NaN</td>\n",
              "      <td>73528.0</td>\n",
              "      <td>614</td>\n",
              "      <td>63346</td>\n",
              "      <td>9568.0</td>\n",
              "    </tr>\n",
              "  </tbody>\n",
              "</table>\n",
              "<p>23150 rows × 7 columns</p>\n",
              "</div>\n",
              "      <button class=\"colab-df-convert\" onclick=\"convertToInteractive('df-e9fa14b8-2a68-4730-b192-ee158737bb1c')\"\n",
              "              title=\"Convert this dataframe to an interactive table.\"\n",
              "              style=\"display:none;\">\n",
              "        \n",
              "  <svg xmlns=\"http://www.w3.org/2000/svg\" height=\"24px\"viewBox=\"0 0 24 24\"\n",
              "       width=\"24px\">\n",
              "    <path d=\"M0 0h24v24H0V0z\" fill=\"none\"/>\n",
              "    <path d=\"M18.56 5.44l.94 2.06.94-2.06 2.06-.94-2.06-.94-.94-2.06-.94 2.06-2.06.94zm-11 1L8.5 8.5l.94-2.06 2.06-.94-2.06-.94L8.5 2.5l-.94 2.06-2.06.94zm10 10l.94 2.06.94-2.06 2.06-.94-2.06-.94-.94-2.06-.94 2.06-2.06.94z\"/><path d=\"M17.41 7.96l-1.37-1.37c-.4-.4-.92-.59-1.43-.59-.52 0-1.04.2-1.43.59L10.3 9.45l-7.72 7.72c-.78.78-.78 2.05 0 2.83L4 21.41c.39.39.9.59 1.41.59.51 0 1.02-.2 1.41-.59l7.78-7.78 2.81-2.81c.8-.78.8-2.07 0-2.86zM5.41 20L4 18.59l7.72-7.72 1.47 1.35L5.41 20z\"/>\n",
              "  </svg>\n",
              "      </button>\n",
              "      \n",
              "  <style>\n",
              "    .colab-df-container {\n",
              "      display:flex;\n",
              "      flex-wrap:wrap;\n",
              "      gap: 12px;\n",
              "    }\n",
              "\n",
              "    .colab-df-convert {\n",
              "      background-color: #E8F0FE;\n",
              "      border: none;\n",
              "      border-radius: 50%;\n",
              "      cursor: pointer;\n",
              "      display: none;\n",
              "      fill: #1967D2;\n",
              "      height: 32px;\n",
              "      padding: 0 0 0 0;\n",
              "      width: 32px;\n",
              "    }\n",
              "\n",
              "    .colab-df-convert:hover {\n",
              "      background-color: #E2EBFA;\n",
              "      box-shadow: 0px 1px 2px rgba(60, 64, 67, 0.3), 0px 1px 3px 1px rgba(60, 64, 67, 0.15);\n",
              "      fill: #174EA6;\n",
              "    }\n",
              "\n",
              "    [theme=dark] .colab-df-convert {\n",
              "      background-color: #3B4455;\n",
              "      fill: #D2E3FC;\n",
              "    }\n",
              "\n",
              "    [theme=dark] .colab-df-convert:hover {\n",
              "      background-color: #434B5C;\n",
              "      box-shadow: 0px 1px 3px 1px rgba(0, 0, 0, 0.15);\n",
              "      filter: drop-shadow(0px 1px 2px rgba(0, 0, 0, 0.3));\n",
              "      fill: #FFFFFF;\n",
              "    }\n",
              "  </style>\n",
              "\n",
              "      <script>\n",
              "        const buttonEl =\n",
              "          document.querySelector('#df-e9fa14b8-2a68-4730-b192-ee158737bb1c button.colab-df-convert');\n",
              "        buttonEl.style.display =\n",
              "          google.colab.kernel.accessAllowed ? 'block' : 'none';\n",
              "\n",
              "        async function convertToInteractive(key) {\n",
              "          const element = document.querySelector('#df-e9fa14b8-2a68-4730-b192-ee158737bb1c');\n",
              "          const dataTable =\n",
              "            await google.colab.kernel.invokeFunction('convertToInteractive',\n",
              "                                                     [key], {});\n",
              "          if (!dataTable) return;\n",
              "\n",
              "          const docLinkHtml = 'Like what you see? Visit the ' +\n",
              "            '<a target=\"_blank\" href=https://colab.research.google.com/notebooks/data_table.ipynb>data table notebook</a>'\n",
              "            + ' to learn more about interactive tables.';\n",
              "          element.innerHTML = '';\n",
              "          dataTable['output_type'] = 'display_data';\n",
              "          await google.colab.output.renderOutput(dataTable, element);\n",
              "          const docLink = document.createElement('div');\n",
              "          docLink.innerHTML = docLinkHtml;\n",
              "          element.appendChild(docLink);\n",
              "        }\n",
              "      </script>\n",
              "    </div>\n",
              "  </div>\n",
              "  "
            ],
            "text/plain": [
              "      ObservationDate                    Country_Region  ... Recovered  Active\n",
              "0          2020-01-23                            Mexico  ...         0     0.0\n",
              "1          2020-01-23                            Brazil  ...         0     0.0\n",
              "2          2020-01-23                          Colombia  ...         0     0.0\n",
              "3          2020-02-26                            Brazil  ...         0     1.0\n",
              "4          2020-02-26                            Brazil  ...         0     1.0\n",
              "...               ...                               ...  ...       ...     ...\n",
              "23145      2020-09-28  Saint Vincent and the Grenadines  ...        64     0.0\n",
              "23146      2020-09-28                          Suriname  ...      4667    67.0\n",
              "23147      2020-09-28               Trinidad and Tobago  ...      2275  2039.0\n",
              "23148      2020-09-28                           Uruguay  ...      1755   208.0\n",
              "23149      2020-09-28                         Venezuela  ...     63346  9568.0\n",
              "\n",
              "[23150 rows x 7 columns]"
            ]
          },
          "metadata": {},
          "execution_count": 138
        }
      ]
    },
    {
      "cell_type": "code",
      "source": [
        "import sys\n",
        "\n",
        "if 'google.colab' in sys.modules:\n",
        "  !pip install -q dtreeviz\n"
      ],
      "metadata": {
        "id": "CoW4gsWiIa5j"
      },
      "execution_count": 139,
      "outputs": []
    },
    {
      "cell_type": "code",
      "source": [
        "import os \n",
        "os.chdir('/content/drive/My Drive/CSC310/notes/assets')\n",
        "from dtreeviz.trees import *\n",
        "from assets.treeviz import tree_print\n",
        "from IPython.display import Image, display_svg, SVG\n",
        "import plotly.express as px"
      ],
      "metadata": {
        "id": "y1C4SEYoIgbs"
      },
      "execution_count": 140,
      "outputs": []
    },
    {
      "cell_type": "markdown",
      "source": [
        ""
      ],
      "metadata": {
        "id": "wGvR7x-QIajw"
      }
    },
    {
      "cell_type": "markdown",
      "source": [
        "#### Which column has the maximum missing value? What % value is missing in that column? Should you keep this column or drop it? Why?\n",
        "\n",
        "> The column with the most missing value is the Provice_State. That column had a 5989 missing values. I think I should keep the column and try to obtain as much useful data that it has.\n",
        "\n",
        "####    There are some columns with only a few data points missing. Should you drop these columns too? Why or why not? How should you handle these specific data points(particular row)?\n",
        "\n",
        "\n",
        "> For the columns that are missing only a few data points I think that I should keep them since they contain a good amount of usefull data that generaly will not throw the main target points off a correct outcome. Specificully looking at the \"Active column this one has a %12 missing value rate which I cannot over look. This will lead me to most likely removing this row aswell due to the fact it can impact the data in a bad way since it lacks a good amount of usefull data.  \n",
        "\n",
        "\n",
        "####    There are some data that has incorrect information like instead of a number they might have strings. How are you handling these data points(rows)?\n",
        "\n",
        "\n",
        "> For these rows I will be locating the row and eleminating them from the data frame so it does not ruine the data set\n",
        "\n",
        "\n",
        "####    After you have cleaned your data, create a plot, or print out the top 10 countries with the most number of confirmed cases.  \n",
        "\n",
        "\n",
        "> Indented block\n",
        "\n",
        "\n",
        "\n"
      ],
      "metadata": {
        "id": "-IaJb7Jn6XJc"
      }
    },
    {
      "cell_type": "code",
      "source": [
        "df.isnull().sum()\n",
        "df['Province_State'].isnull().sum()/25682"
      ],
      "metadata": {
        "colab": {
          "base_uri": "https://localhost:8080/"
        },
        "id": "Ru--bH0u5s-F",
        "outputId": "05944943-d0ed-4c3d-95db-dc664cb66353"
      },
      "execution_count": 141,
      "outputs": [
        {
          "output_type": "execute_result",
          "data": {
            "text/plain": [
              "0.23319834903823689"
            ]
          },
          "metadata": {},
          "execution_count": 141
        }
      ]
    },
    {
      "cell_type": "code",
      "source": [
        "df.dtypes"
      ],
      "metadata": {
        "id": "IEE6TdCkaKvy",
        "colab": {
          "base_uri": "https://localhost:8080/"
        },
        "outputId": "cdaf2da4-901a-401e-c80d-df8604504863"
      },
      "execution_count": 142,
      "outputs": [
        {
          "output_type": "execute_result",
          "data": {
            "text/plain": [
              "ObservationDate     object\n",
              "Country_Region      object\n",
              "Province_State      object\n",
              "Confirmed          float64\n",
              "Deaths              object\n",
              "Recovered           object\n",
              "Active             float64\n",
              "dtype: object"
            ]
          },
          "metadata": {},
          "execution_count": 142
        }
      ]
    },
    {
      "cell_type": "code",
      "source": [
        "pd.unique(df['Country_Region'])"
      ],
      "metadata": {
        "colab": {
          "base_uri": "https://localhost:8080/"
        },
        "id": "2W31jvd2AVhz",
        "outputId": "4a644b46-6ae1-497e-b186-6ec2f6c68e0c"
      },
      "execution_count": 143,
      "outputs": [
        {
          "output_type": "execute_result",
          "data": {
            "text/plain": [
              "array(['Mexico', 'Brazil', 'Colombia', 'Ecuador', 'Dominican Republic',\n",
              "       'Argentina', 'Chile', 'Saint Barthelemy', 'Costa Rica', 'Peru',\n",
              "       'French Guiana', 'Martinique', 'Paraguay', 'Panama', 'Bolivia',\n",
              "       'Honduras', 'Jamaica', 'Cuba', 'Guadeloupe', 'Antigua and Barbuda',\n",
              "       'Guyana', 'Uruguay', 'Trinidad and Tobago', 'Venezuela',\n",
              "       'Guatemala', 'Saint Lucia', 'Saint Vincent and the Grenadines',\n",
              "       'Suriname', 'Bahamas', 'Barbados', 'El Salvador', 'Nicaragua',\n",
              "       'Haiti', 'Dominica', 'Grenada', 'Belize', 'Saint Kitts and Nevis'],\n",
              "      dtype=object)"
            ]
          },
          "metadata": {},
          "execution_count": 143
        }
      ]
    },
    {
      "cell_type": "code",
      "source": [
        "df = df.drop(columns = 'Province_State')"
      ],
      "metadata": {
        "id": "pYUpOysbApJj"
      },
      "execution_count": 144,
      "outputs": []
    },
    {
      "cell_type": "markdown",
      "source": [
        ""
      ],
      "metadata": {
        "id": "uzcmHtCnazh6"
      }
    },
    {
      "cell_type": "code",
      "source": [
        "df.dropna(how='any',axis=0)\n",
        "\n",
        "df.isnull().values.any()\n",
        "df"
      ],
      "metadata": {
        "colab": {
          "base_uri": "https://localhost:8080/",
          "height": 424
        },
        "id": "RtMZ4Li1AxFS",
        "outputId": "8a14375a-0784-4024-8bce-480c220f3f90"
      },
      "execution_count": 145,
      "outputs": [
        {
          "output_type": "execute_result",
          "data": {
            "text/html": [
              "\n",
              "  <div id=\"df-8bdede44-9950-40a9-96bf-31c95563c0e8\">\n",
              "    <div class=\"colab-df-container\">\n",
              "      <div>\n",
              "<style scoped>\n",
              "    .dataframe tbody tr th:only-of-type {\n",
              "        vertical-align: middle;\n",
              "    }\n",
              "\n",
              "    .dataframe tbody tr th {\n",
              "        vertical-align: top;\n",
              "    }\n",
              "\n",
              "    .dataframe thead th {\n",
              "        text-align: right;\n",
              "    }\n",
              "</style>\n",
              "<table border=\"1\" class=\"dataframe\">\n",
              "  <thead>\n",
              "    <tr style=\"text-align: right;\">\n",
              "      <th></th>\n",
              "      <th>ObservationDate</th>\n",
              "      <th>Country_Region</th>\n",
              "      <th>Confirmed</th>\n",
              "      <th>Deaths</th>\n",
              "      <th>Recovered</th>\n",
              "      <th>Active</th>\n",
              "    </tr>\n",
              "  </thead>\n",
              "  <tbody>\n",
              "    <tr>\n",
              "      <th>0</th>\n",
              "      <td>2020-01-23</td>\n",
              "      <td>Mexico</td>\n",
              "      <td>0.0</td>\n",
              "      <td>0</td>\n",
              "      <td>0</td>\n",
              "      <td>0.0</td>\n",
              "    </tr>\n",
              "    <tr>\n",
              "      <th>1</th>\n",
              "      <td>2020-01-23</td>\n",
              "      <td>Brazil</td>\n",
              "      <td>0.0</td>\n",
              "      <td>0</td>\n",
              "      <td>0</td>\n",
              "      <td>0.0</td>\n",
              "    </tr>\n",
              "    <tr>\n",
              "      <th>2</th>\n",
              "      <td>2020-01-23</td>\n",
              "      <td>Colombia</td>\n",
              "      <td>0.0</td>\n",
              "      <td>0</td>\n",
              "      <td>0</td>\n",
              "      <td>0.0</td>\n",
              "    </tr>\n",
              "    <tr>\n",
              "      <th>3</th>\n",
              "      <td>2020-02-26</td>\n",
              "      <td>Brazil</td>\n",
              "      <td>1.0</td>\n",
              "      <td>0</td>\n",
              "      <td>0</td>\n",
              "      <td>1.0</td>\n",
              "    </tr>\n",
              "    <tr>\n",
              "      <th>4</th>\n",
              "      <td>2020-02-26</td>\n",
              "      <td>Brazil</td>\n",
              "      <td>1.0</td>\n",
              "      <td>0</td>\n",
              "      <td>0</td>\n",
              "      <td>1.0</td>\n",
              "    </tr>\n",
              "    <tr>\n",
              "      <th>...</th>\n",
              "      <td>...</td>\n",
              "      <td>...</td>\n",
              "      <td>...</td>\n",
              "      <td>...</td>\n",
              "      <td>...</td>\n",
              "      <td>...</td>\n",
              "    </tr>\n",
              "    <tr>\n",
              "      <th>23145</th>\n",
              "      <td>2020-09-28</td>\n",
              "      <td>Saint Vincent and the Grenadines</td>\n",
              "      <td>64.0</td>\n",
              "      <td>0</td>\n",
              "      <td>64</td>\n",
              "      <td>0.0</td>\n",
              "    </tr>\n",
              "    <tr>\n",
              "      <th>23146</th>\n",
              "      <td>2020-09-28</td>\n",
              "      <td>Suriname</td>\n",
              "      <td>4836.0</td>\n",
              "      <td>102</td>\n",
              "      <td>4667</td>\n",
              "      <td>67.0</td>\n",
              "    </tr>\n",
              "    <tr>\n",
              "      <th>23147</th>\n",
              "      <td>2020-09-28</td>\n",
              "      <td>Trinidad and Tobago</td>\n",
              "      <td>4386.0</td>\n",
              "      <td>72</td>\n",
              "      <td>2275</td>\n",
              "      <td>2039.0</td>\n",
              "    </tr>\n",
              "    <tr>\n",
              "      <th>23148</th>\n",
              "      <td>2020-09-28</td>\n",
              "      <td>Uruguay</td>\n",
              "      <td>2010.0</td>\n",
              "      <td>47</td>\n",
              "      <td>1755</td>\n",
              "      <td>208.0</td>\n",
              "    </tr>\n",
              "    <tr>\n",
              "      <th>23149</th>\n",
              "      <td>2020-09-28</td>\n",
              "      <td>Venezuela</td>\n",
              "      <td>73528.0</td>\n",
              "      <td>614</td>\n",
              "      <td>63346</td>\n",
              "      <td>9568.0</td>\n",
              "    </tr>\n",
              "  </tbody>\n",
              "</table>\n",
              "<p>23150 rows × 6 columns</p>\n",
              "</div>\n",
              "      <button class=\"colab-df-convert\" onclick=\"convertToInteractive('df-8bdede44-9950-40a9-96bf-31c95563c0e8')\"\n",
              "              title=\"Convert this dataframe to an interactive table.\"\n",
              "              style=\"display:none;\">\n",
              "        \n",
              "  <svg xmlns=\"http://www.w3.org/2000/svg\" height=\"24px\"viewBox=\"0 0 24 24\"\n",
              "       width=\"24px\">\n",
              "    <path d=\"M0 0h24v24H0V0z\" fill=\"none\"/>\n",
              "    <path d=\"M18.56 5.44l.94 2.06.94-2.06 2.06-.94-2.06-.94-.94-2.06-.94 2.06-2.06.94zm-11 1L8.5 8.5l.94-2.06 2.06-.94-2.06-.94L8.5 2.5l-.94 2.06-2.06.94zm10 10l.94 2.06.94-2.06 2.06-.94-2.06-.94-.94-2.06-.94 2.06-2.06.94z\"/><path d=\"M17.41 7.96l-1.37-1.37c-.4-.4-.92-.59-1.43-.59-.52 0-1.04.2-1.43.59L10.3 9.45l-7.72 7.72c-.78.78-.78 2.05 0 2.83L4 21.41c.39.39.9.59 1.41.59.51 0 1.02-.2 1.41-.59l7.78-7.78 2.81-2.81c.8-.78.8-2.07 0-2.86zM5.41 20L4 18.59l7.72-7.72 1.47 1.35L5.41 20z\"/>\n",
              "  </svg>\n",
              "      </button>\n",
              "      \n",
              "  <style>\n",
              "    .colab-df-container {\n",
              "      display:flex;\n",
              "      flex-wrap:wrap;\n",
              "      gap: 12px;\n",
              "    }\n",
              "\n",
              "    .colab-df-convert {\n",
              "      background-color: #E8F0FE;\n",
              "      border: none;\n",
              "      border-radius: 50%;\n",
              "      cursor: pointer;\n",
              "      display: none;\n",
              "      fill: #1967D2;\n",
              "      height: 32px;\n",
              "      padding: 0 0 0 0;\n",
              "      width: 32px;\n",
              "    }\n",
              "\n",
              "    .colab-df-convert:hover {\n",
              "      background-color: #E2EBFA;\n",
              "      box-shadow: 0px 1px 2px rgba(60, 64, 67, 0.3), 0px 1px 3px 1px rgba(60, 64, 67, 0.15);\n",
              "      fill: #174EA6;\n",
              "    }\n",
              "\n",
              "    [theme=dark] .colab-df-convert {\n",
              "      background-color: #3B4455;\n",
              "      fill: #D2E3FC;\n",
              "    }\n",
              "\n",
              "    [theme=dark] .colab-df-convert:hover {\n",
              "      background-color: #434B5C;\n",
              "      box-shadow: 0px 1px 3px 1px rgba(0, 0, 0, 0.15);\n",
              "      filter: drop-shadow(0px 1px 2px rgba(0, 0, 0, 0.3));\n",
              "      fill: #FFFFFF;\n",
              "    }\n",
              "  </style>\n",
              "\n",
              "      <script>\n",
              "        const buttonEl =\n",
              "          document.querySelector('#df-8bdede44-9950-40a9-96bf-31c95563c0e8 button.colab-df-convert');\n",
              "        buttonEl.style.display =\n",
              "          google.colab.kernel.accessAllowed ? 'block' : 'none';\n",
              "\n",
              "        async function convertToInteractive(key) {\n",
              "          const element = document.querySelector('#df-8bdede44-9950-40a9-96bf-31c95563c0e8');\n",
              "          const dataTable =\n",
              "            await google.colab.kernel.invokeFunction('convertToInteractive',\n",
              "                                                     [key], {});\n",
              "          if (!dataTable) return;\n",
              "\n",
              "          const docLinkHtml = 'Like what you see? Visit the ' +\n",
              "            '<a target=\"_blank\" href=https://colab.research.google.com/notebooks/data_table.ipynb>data table notebook</a>'\n",
              "            + ' to learn more about interactive tables.';\n",
              "          element.innerHTML = '';\n",
              "          dataTable['output_type'] = 'display_data';\n",
              "          await google.colab.output.renderOutput(dataTable, element);\n",
              "          const docLink = document.createElement('div');\n",
              "          docLink.innerHTML = docLinkHtml;\n",
              "          element.appendChild(docLink);\n",
              "        }\n",
              "      </script>\n",
              "    </div>\n",
              "  </div>\n",
              "  "
            ],
            "text/plain": [
              "      ObservationDate                    Country_Region  ...  Recovered  Active\n",
              "0          2020-01-23                            Mexico  ...          0     0.0\n",
              "1          2020-01-23                            Brazil  ...          0     0.0\n",
              "2          2020-01-23                          Colombia  ...          0     0.0\n",
              "3          2020-02-26                            Brazil  ...          0     1.0\n",
              "4          2020-02-26                            Brazil  ...          0     1.0\n",
              "...               ...                               ...  ...        ...     ...\n",
              "23145      2020-09-28  Saint Vincent and the Grenadines  ...         64     0.0\n",
              "23146      2020-09-28                          Suriname  ...       4667    67.0\n",
              "23147      2020-09-28               Trinidad and Tobago  ...       2275  2039.0\n",
              "23148      2020-09-28                           Uruguay  ...       1755   208.0\n",
              "23149      2020-09-28                         Venezuela  ...      63346  9568.0\n",
              "\n",
              "[23150 rows x 6 columns]"
            ]
          },
          "metadata": {},
          "execution_count": 145
        }
      ]
    },
    {
      "cell_type": "code",
      "source": [
        "df.shape"
      ],
      "metadata": {
        "colab": {
          "base_uri": "https://localhost:8080/"
        },
        "id": "KSSJcvn5CgrU",
        "outputId": "7262e3c7-6987-4535-bd70-88377c1bf913"
      },
      "execution_count": 146,
      "outputs": [
        {
          "output_type": "execute_result",
          "data": {
            "text/plain": [
              "(23150, 6)"
            ]
          },
          "metadata": {},
          "execution_count": 146
        }
      ]
    },
    {
      "cell_type": "code",
      "source": [
        "dfc = df.groupby(['Confirmed'])[['Country_Region', 'Confirmed']]\n",
        "dfc.head(10)"
      ],
      "metadata": {
        "colab": {
          "base_uri": "https://localhost:8080/",
          "height": 424
        },
        "id": "jK3vvXJLCjwc",
        "outputId": "4fb129a0-2bcb-48b2-9c76-8f1aad442fe3"
      },
      "execution_count": 147,
      "outputs": [
        {
          "output_type": "execute_result",
          "data": {
            "text/html": [
              "\n",
              "  <div id=\"df-4428a550-2af2-47cd-ad7d-bb58aa204487\">\n",
              "    <div class=\"colab-df-container\">\n",
              "      <div>\n",
              "<style scoped>\n",
              "    .dataframe tbody tr th:only-of-type {\n",
              "        vertical-align: middle;\n",
              "    }\n",
              "\n",
              "    .dataframe tbody tr th {\n",
              "        vertical-align: top;\n",
              "    }\n",
              "\n",
              "    .dataframe thead th {\n",
              "        text-align: right;\n",
              "    }\n",
              "</style>\n",
              "<table border=\"1\" class=\"dataframe\">\n",
              "  <thead>\n",
              "    <tr style=\"text-align: right;\">\n",
              "      <th></th>\n",
              "      <th>Country_Region</th>\n",
              "      <th>Confirmed</th>\n",
              "    </tr>\n",
              "  </thead>\n",
              "  <tbody>\n",
              "    <tr>\n",
              "      <th>0</th>\n",
              "      <td>Mexico</td>\n",
              "      <td>0.0</td>\n",
              "    </tr>\n",
              "    <tr>\n",
              "      <th>1</th>\n",
              "      <td>Brazil</td>\n",
              "      <td>0.0</td>\n",
              "    </tr>\n",
              "    <tr>\n",
              "      <th>2</th>\n",
              "      <td>Colombia</td>\n",
              "      <td>0.0</td>\n",
              "    </tr>\n",
              "    <tr>\n",
              "      <th>3</th>\n",
              "      <td>Brazil</td>\n",
              "      <td>1.0</td>\n",
              "    </tr>\n",
              "    <tr>\n",
              "      <th>4</th>\n",
              "      <td>Brazil</td>\n",
              "      <td>1.0</td>\n",
              "    </tr>\n",
              "    <tr>\n",
              "      <th>...</th>\n",
              "      <td>...</td>\n",
              "      <td>...</td>\n",
              "    </tr>\n",
              "    <tr>\n",
              "      <th>23141</th>\n",
              "      <td>Peru</td>\n",
              "      <td>16025.0</td>\n",
              "    </tr>\n",
              "    <tr>\n",
              "      <th>23146</th>\n",
              "      <td>Suriname</td>\n",
              "      <td>4836.0</td>\n",
              "    </tr>\n",
              "    <tr>\n",
              "      <th>23147</th>\n",
              "      <td>Trinidad and Tobago</td>\n",
              "      <td>4386.0</td>\n",
              "    </tr>\n",
              "    <tr>\n",
              "      <th>23148</th>\n",
              "      <td>Uruguay</td>\n",
              "      <td>2010.0</td>\n",
              "    </tr>\n",
              "    <tr>\n",
              "      <th>23149</th>\n",
              "      <td>Venezuela</td>\n",
              "      <td>73528.0</td>\n",
              "    </tr>\n",
              "  </tbody>\n",
              "</table>\n",
              "<p>20769 rows × 2 columns</p>\n",
              "</div>\n",
              "      <button class=\"colab-df-convert\" onclick=\"convertToInteractive('df-4428a550-2af2-47cd-ad7d-bb58aa204487')\"\n",
              "              title=\"Convert this dataframe to an interactive table.\"\n",
              "              style=\"display:none;\">\n",
              "        \n",
              "  <svg xmlns=\"http://www.w3.org/2000/svg\" height=\"24px\"viewBox=\"0 0 24 24\"\n",
              "       width=\"24px\">\n",
              "    <path d=\"M0 0h24v24H0V0z\" fill=\"none\"/>\n",
              "    <path d=\"M18.56 5.44l.94 2.06.94-2.06 2.06-.94-2.06-.94-.94-2.06-.94 2.06-2.06.94zm-11 1L8.5 8.5l.94-2.06 2.06-.94-2.06-.94L8.5 2.5l-.94 2.06-2.06.94zm10 10l.94 2.06.94-2.06 2.06-.94-2.06-.94-.94-2.06-.94 2.06-2.06.94z\"/><path d=\"M17.41 7.96l-1.37-1.37c-.4-.4-.92-.59-1.43-.59-.52 0-1.04.2-1.43.59L10.3 9.45l-7.72 7.72c-.78.78-.78 2.05 0 2.83L4 21.41c.39.39.9.59 1.41.59.51 0 1.02-.2 1.41-.59l7.78-7.78 2.81-2.81c.8-.78.8-2.07 0-2.86zM5.41 20L4 18.59l7.72-7.72 1.47 1.35L5.41 20z\"/>\n",
              "  </svg>\n",
              "      </button>\n",
              "      \n",
              "  <style>\n",
              "    .colab-df-container {\n",
              "      display:flex;\n",
              "      flex-wrap:wrap;\n",
              "      gap: 12px;\n",
              "    }\n",
              "\n",
              "    .colab-df-convert {\n",
              "      background-color: #E8F0FE;\n",
              "      border: none;\n",
              "      border-radius: 50%;\n",
              "      cursor: pointer;\n",
              "      display: none;\n",
              "      fill: #1967D2;\n",
              "      height: 32px;\n",
              "      padding: 0 0 0 0;\n",
              "      width: 32px;\n",
              "    }\n",
              "\n",
              "    .colab-df-convert:hover {\n",
              "      background-color: #E2EBFA;\n",
              "      box-shadow: 0px 1px 2px rgba(60, 64, 67, 0.3), 0px 1px 3px 1px rgba(60, 64, 67, 0.15);\n",
              "      fill: #174EA6;\n",
              "    }\n",
              "\n",
              "    [theme=dark] .colab-df-convert {\n",
              "      background-color: #3B4455;\n",
              "      fill: #D2E3FC;\n",
              "    }\n",
              "\n",
              "    [theme=dark] .colab-df-convert:hover {\n",
              "      background-color: #434B5C;\n",
              "      box-shadow: 0px 1px 3px 1px rgba(0, 0, 0, 0.15);\n",
              "      filter: drop-shadow(0px 1px 2px rgba(0, 0, 0, 0.3));\n",
              "      fill: #FFFFFF;\n",
              "    }\n",
              "  </style>\n",
              "\n",
              "      <script>\n",
              "        const buttonEl =\n",
              "          document.querySelector('#df-4428a550-2af2-47cd-ad7d-bb58aa204487 button.colab-df-convert');\n",
              "        buttonEl.style.display =\n",
              "          google.colab.kernel.accessAllowed ? 'block' : 'none';\n",
              "\n",
              "        async function convertToInteractive(key) {\n",
              "          const element = document.querySelector('#df-4428a550-2af2-47cd-ad7d-bb58aa204487');\n",
              "          const dataTable =\n",
              "            await google.colab.kernel.invokeFunction('convertToInteractive',\n",
              "                                                     [key], {});\n",
              "          if (!dataTable) return;\n",
              "\n",
              "          const docLinkHtml = 'Like what you see? Visit the ' +\n",
              "            '<a target=\"_blank\" href=https://colab.research.google.com/notebooks/data_table.ipynb>data table notebook</a>'\n",
              "            + ' to learn more about interactive tables.';\n",
              "          element.innerHTML = '';\n",
              "          dataTable['output_type'] = 'display_data';\n",
              "          await google.colab.output.renderOutput(dataTable, element);\n",
              "          const docLink = document.createElement('div');\n",
              "          docLink.innerHTML = docLinkHtml;\n",
              "          element.appendChild(docLink);\n",
              "        }\n",
              "      </script>\n",
              "    </div>\n",
              "  </div>\n",
              "  "
            ],
            "text/plain": [
              "            Country_Region  Confirmed\n",
              "0                   Mexico        0.0\n",
              "1                   Brazil        0.0\n",
              "2                 Colombia        0.0\n",
              "3                   Brazil        1.0\n",
              "4                   Brazil        1.0\n",
              "...                    ...        ...\n",
              "23141                 Peru    16025.0\n",
              "23146             Suriname     4836.0\n",
              "23147  Trinidad and Tobago     4386.0\n",
              "23148              Uruguay     2010.0\n",
              "23149            Venezuela    73528.0\n",
              "\n",
              "[20769 rows x 2 columns]"
            ]
          },
          "metadata": {},
          "execution_count": 147
        }
      ]
    },
    {
      "cell_type": "code",
      "source": [
        "df['Country_Region'].unique()"
      ],
      "metadata": {
        "colab": {
          "base_uri": "https://localhost:8080/"
        },
        "id": "gYtSrGnxVAlg",
        "outputId": "0ec38c14-fa10-4f47-9044-905e00b709d9"
      },
      "execution_count": 148,
      "outputs": [
        {
          "output_type": "execute_result",
          "data": {
            "text/plain": [
              "array(['Mexico', 'Brazil', 'Colombia', 'Ecuador', 'Dominican Republic',\n",
              "       'Argentina', 'Chile', 'Saint Barthelemy', 'Costa Rica', 'Peru',\n",
              "       'French Guiana', 'Martinique', 'Paraguay', 'Panama', 'Bolivia',\n",
              "       'Honduras', 'Jamaica', 'Cuba', 'Guadeloupe', 'Antigua and Barbuda',\n",
              "       'Guyana', 'Uruguay', 'Trinidad and Tobago', 'Venezuela',\n",
              "       'Guatemala', 'Saint Lucia', 'Saint Vincent and the Grenadines',\n",
              "       'Suriname', 'Bahamas', 'Barbados', 'El Salvador', 'Nicaragua',\n",
              "       'Haiti', 'Dominica', 'Grenada', 'Belize', 'Saint Kitts and Nevis'],\n",
              "      dtype=object)"
            ]
          },
          "metadata": {},
          "execution_count": 148
        }
      ]
    },
    {
      "cell_type": "code",
      "source": [
        "dfc = df.sort_values(['Confirmed'],ascending=False).groupby('Confirmed').head(10)\n",
        "dfc = dfc.drop_duplicates(subset=['Country_Region'])\n",
        "dfc.head(10).plot.bar(x='Country_Region', y='Confirmed')"
      ],
      "metadata": {
        "colab": {
          "base_uri": "https://localhost:8080/",
          "height": 398
        },
        "id": "yw-kPSxWNpPX",
        "outputId": "10fa8118-70e4-4196-a85b-52d8621da814"
      },
      "execution_count": 149,
      "outputs": [
        {
          "output_type": "execute_result",
          "data": {
            "text/plain": [
              "<matplotlib.axes._subplots.AxesSubplot at 0x7fa9a93edf90>"
            ]
          },
          "metadata": {},
          "execution_count": 149
        },
        {
          "output_type": "display_data",
          "data": {
            "image/png": "[encoded data removed]",
            "text/plain": [
              "<Figure size 432x288 with 1 Axes>"
            ]
          },
          "metadata": {
            "needs_background": "light"
          }
        }
      ]
    }
  ]
}